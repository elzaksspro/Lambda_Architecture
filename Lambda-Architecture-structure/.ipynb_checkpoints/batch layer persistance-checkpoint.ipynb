{
 "cells": [
  {
   "cell_type": "code",
   "execution_count": 1,
   "metadata": {
    "collapsed": true
   },
   "outputs": [],
   "source": [
    "from pyspark.sql import SparkSession"
   ]
  },
  {
   "cell_type": "code",
   "execution_count": 2,
   "metadata": {
    "collapsed": true
   },
   "outputs": [],
   "source": [
    "from pyspark.sql.functions import *\n",
    "from pyspark.sql.types import *\n",
    "import time\n",
    "from pyspark.sql import SQLContext\n",
    "from cassandra.cluster import Cluster\n"
   ]
  },
  {
   "cell_type": "code",
   "execution_count": 3,
   "metadata": {
    "collapsed": true
   },
   "outputs": [],
   "source": [
    "spark = SparkSession.builder.appName('lr_example').config('spark.cassandra.connection.host', 'localhost').getOrCreate()"
   ]
  },
  {
   "cell_type": "code",
   "execution_count": 4,
   "metadata": {
    "collapsed": true
   },
   "outputs": [],
   "source": [
    "sqlContext = SQLContext(spark)"
   ]
  },
  {
   "cell_type": "code",
   "execution_count": 5,
   "metadata": {
    "collapsed": true
   },
   "outputs": [],
   "source": [
    "# hdfs://localhost:9000/kafka_spark"
   ]
  },
  {
   "cell_type": "code",
   "execution_count": 6,
   "metadata": {
    "collapsed": true
   },
   "outputs": [],
   "source": [
    "data = spark.read.csv(\"hdfs://localhost:9000/kafka_spark\", inferSchema=True, header=True)"
   ]
  },
  {
   "cell_type": "code",
   "execution_count": 7,
   "metadata": {},
   "outputs": [
    {
     "name": "stdout",
     "output_type": "stream",
     "text": [
      "root\n",
      " |-- action: string (nullable = true)\n",
      " |-- page: string (nullable = true)\n",
      " |-- prevPage: string (nullable = true)\n",
      " |-- product: string (nullable = true)\n",
      " |-- referrer: string (nullable = true)\n",
      " |-- timestamp_hour: long (nullable = true)\n",
      " |-- visitor: string (nullable = true)\n",
      "\n"
     ]
    }
   ],
   "source": [
    "data.printSchema()"
   ]
  },
  {
   "cell_type": "code",
   "execution_count": 8,
   "metadata": {},
   "outputs": [
    {
     "data": {
      "text/plain": [
       "['action',\n",
       " 'page',\n",
       " 'prevPage',\n",
       " 'product',\n",
       " 'referrer',\n",
       " 'timestamp_hour',\n",
       " 'visitor']"
      ]
     },
     "execution_count": 8,
     "metadata": {},
     "output_type": "execute_result"
    }
   ],
   "source": [
    "data.columns"
   ]
  },
  {
   "cell_type": "code",
   "execution_count": 9,
   "metadata": {},
   "outputs": [
    {
     "name": "stdout",
     "output_type": "stream",
     "text": [
      "+-----------+-------+--------+--------------------+--------+--------------+--------------+\n",
      "|     action|   page|prevPage|             product|referrer|timestamp_hour|       visitor|\n",
      "+-----------+-------+--------+--------------------+--------+--------------+--------------+\n",
      "|    purchas| Page-0|    null|Kind,Dark Chocola...|    Bing| 1521699747500|Visitor-419410|\n",
      "|add_to_cart| Page-0|    null|O-Live And Compan...|  Google| 1521699747500|Visitor-981800|\n",
      "|  page_view| Page-9|    null|Parallax Inc.,Ext...| Twitter| 1521699747980|Visitor-529614|\n",
      "|  page_view| Page-1|    null|Mrs. Meyer's Clea...|    Bing| 1521699747980|Visitor-337395|\n",
      "|  page_view|Page-13|    null|Scrabble,Crosswor...|   Other| 1521699747980|Visitor-374554|\n",
      "|  page_view|Page-14|    null|Mrs. Meyer's Clea...|    Bing| 1521699747980|Visitor-929627|\n",
      "|  page_view|Page-10|    null|Simply Organic,It...| Twitter| 1521699747980|Visitor-611058|\n",
      "|  page_view| Page-8|    null|Ancient Harvest,Q...|    Bing| 1521699756140|  Visitor-3760|\n",
      "|  page_view|Page-11|    null|Purity Farms,Orga...|   Yahoo| 1521699756140|Visitor-394032|\n",
      "|  page_view|Page-12|    null|Kind,Thai Sweet C...|    Bing| 1521699756140|Visitor-867457|\n",
      "|  page_view|Page-14|    null|Dave's Gourmet,Re...|   Yahoo| 1521699756140|Visitor-178921|\n",
      "|  page_view| Page-8|    null|Clean & Clear,Ess...|   Other| 1521699756140|Visitor-211638|\n",
      "|  page_view| Page-6|    null|up & up,Toothbrus...|  Direct| 1521699756620|Visitor-412607|\n",
      "|  page_view|Page-13|    null|Cover Girl,Flamed...|   Other| 1521699756620|Visitor-474558|\n",
      "|  page_view|Page-12|    null|Penn,Extra Duty F...|    Bing| 1521699756620|Visitor-873441|\n",
      "|  page_view| Page-2|    null|Pereg,Organic Quinoa|Facebook| 1521699756620|Visitor-311848|\n",
      "|  page_view| Page-6|    null|Chobani,Greek Yog...|   Other| 1521699756620|Visitor-238166|\n",
      "|  page_view| Page-9|    null|Orbit,Spearmint S...|    Bing| 1521699756620|Visitor-796132|\n",
      "|  page_view| Page-2|    null|Kind,Thai Sweet C...| Twitter| 1521699756620|Visitor-517693|\n",
      "|  page_view| Page-0|    null|Purity Farms,Orga...| Twitter| 1521699756620|Visitor-318451|\n",
      "+-----------+-------+--------+--------------------+--------+--------------+--------------+\n",
      "only showing top 20 rows\n",
      "\n"
     ]
    }
   ],
   "source": [
    "data.show()"
   ]
  },
  {
   "cell_type": "code",
   "execution_count": 10,
   "metadata": {},
   "outputs": [
    {
     "name": "stdout",
     "output_type": "stream",
     "text": [
      "+-----------+-------+--------+----------------------------------------------------------------+--------+--------------+--------------+\n",
      "|action     |page   |prevPage|product                                                         |referrer|timestamp_hour|visitor       |\n",
      "+-----------+-------+--------+----------------------------------------------------------------+--------+--------------+--------------+\n",
      "|purchas    |Page-0 |null    |Kind,Dark Chocolate Nuts & Sea Salt Protein Bar                 |Bing    |1521699747500 |Visitor-419410|\n",
      "|add_to_cart|Page-0 |null    |O-Live And Company,Extra Virgin Olive Oil                       |Google  |1521699747500 |Visitor-981800|\n",
      "|page_view  |Page-9 |null    |Parallax Inc.,Extension Cables & 3-Pin Headers                  |Twitter |1521699747980 |Visitor-529614|\n",
      "|page_view  |Page-1 |null    |Mrs. Meyer's Clean Day,\"Liquid Hand Soap Refill, Lavender Scent\"|Bing    |1521699747980 |Visitor-337395|\n",
      "|page_view  |Page-13|null    |Scrabble,Crossword Game                                         |Other   |1521699747980 |Visitor-374554|\n",
      "|page_view  |Page-14|null    |Mrs. Meyer's Clean Day,\"Liquid Hand Soap Refill, Lavender Scent\"|Bing    |1521699747980 |Visitor-929627|\n",
      "|page_view  |Page-10|null    |Simply Organic,Italian Seasoning                                |Twitter |1521699747980 |Visitor-611058|\n",
      "+-----------+-------+--------+----------------------------------------------------------------+--------+--------------+--------------+\n",
      "only showing top 7 rows\n",
      "\n"
     ]
    }
   ],
   "source": [
    "data.show(7, truncate=False)"
   ]
  },
  {
   "cell_type": "code",
   "execution_count": 11,
   "metadata": {
    "collapsed": true
   },
   "outputs": [],
   "source": [
    "def timestamp_conversion(timestamp):\n",
    "        if timestamp is not None:\n",
    "            return time.strftime('%Y-%m-%d', time.gmtime(timestamp/1000))\n",
    "        else:\n",
    "            return \"null null\""
   ]
  },
  {
   "cell_type": "code",
   "execution_count": 12,
   "metadata": {
    "collapsed": true
   },
   "outputs": [],
   "source": [
    "time_udf = udf(timestamp_conversion,StringType())"
   ]
  },
  {
   "cell_type": "code",
   "execution_count": 13,
   "metadata": {
    "collapsed": true
   },
   "outputs": [],
   "source": [
    "inputDF = data.withColumn(\"timestamp_hour\",time_udf(data[\"timestamp_hour\"]))\n",
    "inputDF.createOrReplaceTempView(\"activity\")"
   ]
  },
  {
   "cell_type": "code",
   "execution_count": 14,
   "metadata": {
    "collapsed": true
   },
   "outputs": [],
   "source": [
    "visitorsByProduct = sqlContext.sql(\"SELECT product, timestamp_hour, COUNT(DISTINCT visitor) as unique_visitors FROM Activity GROUP BY product, timestamp_hour\")\n",
    "\n",
    "activityByProduct = sqlContext.sql(\"SELECT product, timestamp_hour, sum(case when action = 'purchase' then 1 else 0 end) as purchase_count, sum(case when action = 'add_to_cart' then 1 else 0 end) as add_to_cart_count, sum(case when action = 'page_view' then 1 else 0 end) as page_view_count from Activity group by product, timestamp_hour\").cache()"
   ]
  },
  {
   "cell_type": "code",
   "execution_count": 15,
   "metadata": {},
   "outputs": [
    {
     "name": "stdout",
     "output_type": "stream",
     "text": [
      "+--------------------+--------------+---------------+\n",
      "|             product|timestamp_hour|unique_visitors|\n",
      "+--------------------+--------------+---------------+\n",
      "|Gatorade,Fierce G...|    2018-03-22|             95|\n",
      "|All,\"Mighty Pacs,...|    2018-03-22|             81|\n",
      "| Q-tips,Cotton Swabs|    2018-03-22|             99|\n",
      "|Scott,One Ply Bat...|    2018-03-22|             85|\n",
      "|Viano Vineyards,C...|    2018-03-22|             89|\n",
      "+--------------------+--------------+---------------+\n",
      "only showing top 5 rows\n",
      "\n"
     ]
    }
   ],
   "source": [
    "visitorsByProduct.show(5)"
   ]
  },
  {
   "cell_type": "code",
   "execution_count": 16,
   "metadata": {},
   "outputs": [
    {
     "name": "stdout",
     "output_type": "stream",
     "text": [
      "+--------------------+--------------+--------------+-----------------+---------------+\n",
      "|             product|timestamp_hour|purchase_count|add_to_cart_count|page_view_count|\n",
      "+--------------------+--------------+--------------+-----------------+---------------+\n",
      "|Gatorade,Fierce G...|    2018-03-22|             0|                4|             84|\n",
      "| Q-tips,Cotton Swabs|    2018-03-22|             0|                5|             92|\n",
      "|    Benadryl,Allergy|    2018-03-22|             0|                5|             79|\n",
      "|Viano Vineyards,C...|    2018-03-22|             0|                2|             84|\n",
      "|Scott,One Ply Bat...|    2018-03-22|             0|                3|             80|\n",
      "+--------------------+--------------+--------------+-----------------+---------------+\n",
      "only showing top 5 rows\n",
      "\n"
     ]
    }
   ],
   "source": [
    "activityByProduct.show(5)"
   ]
  },
  {
   "cell_type": "code",
   "execution_count": 17,
   "metadata": {
    "collapsed": true
   },
   "outputs": [],
   "source": [
    "cluster = Cluster()"
   ]
  },
  {
   "cell_type": "code",
   "execution_count": 18,
   "metadata": {
    "collapsed": true
   },
   "outputs": [],
   "source": [
    "session = cluster.connect()"
   ]
  },
  {
   "cell_type": "code",
   "execution_count": 19,
   "metadata": {
    "collapsed": true
   },
   "outputs": [],
   "source": [
    "session.set_keyspace('lambda')"
   ]
  },
  {
   "cell_type": "code",
   "execution_count": 20,
   "metadata": {
    "collapsed": true
   },
   "outputs": [],
   "source": [
    "visitorProduct = visitorsByProduct.rdd.map(lambda x: (x.product, x.timestamp_hour, x.unique_visitors))"
   ]
  },
  {
   "cell_type": "code",
   "execution_count": 21,
   "metadata": {
    "collapsed": true
   },
   "outputs": [],
   "source": [
    "import re\n",
    "from cassandra.query import BatchStatement"
   ]
  },
  {
   "cell_type": "code",
   "execution_count": 22,
   "metadata": {},
   "outputs": [],
   "source": [
    "# inserting into batch_visitors_by_product\n",
    "query = session.prepare(\"INSERT INTO batch_visitors_by_product (product, timestamp_hour, unique_visitors) VALUES (?,?,?)\")\n",
    "for row in visitorsByProduct.rdd.collect():\n",
    "    session.execute(query, [row['product'], row['timestamp_hour'], row['unique_visitors']])"
   ]
  },
  {
   "cell_type": "code",
   "execution_count": 24,
   "metadata": {},
   "outputs": [],
   "source": [
    "# inserting into batch_activity_by_product\n",
    "query = session.prepare(\"INSERT INTO batch_activity_by_product (product, timestamp_hour, add_to_cart_count, page_view_count, purchase_count) VALUES (?, ?, ?, ?, ?)\")\n",
    "for row in activityByProduct.rdd.collect():\n",
    "    session.execute(query, [row['product'], row['timestamp_hour'], row['purchase_count'], row['add_to_cart_count'],row['page_view_count']])"
   ]
  },
  {
   "cell_type": "code",
   "execution_count": null,
   "metadata": {
    "collapsed": true
   },
   "outputs": [],
   "source": []
  }
 ],
 "metadata": {
  "kernelspec": {
   "display_name": "Python 3",
   "language": "python",
   "name": "python3"
  },
  "language_info": {
   "codemirror_mode": {
    "name": "ipython",
    "version": 3
   },
   "file_extension": ".py",
   "mimetype": "text/x-python",
   "name": "python",
   "nbconvert_exporter": "python",
   "pygments_lexer": "ipython3",
   "version": "3.6.3"
  }
 },
 "nbformat": 4,
 "nbformat_minor": 2
}
