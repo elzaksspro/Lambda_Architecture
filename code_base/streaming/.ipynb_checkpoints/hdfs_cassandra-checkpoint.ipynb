{
 "cells": [
  {
   "cell_type": "markdown",
   "metadata": {},
   "source": [
    "# Persisting Layer for Batch Job"
   ]
  },
  {
   "cell_type": "markdown",
   "metadata": {},
   "source": [
    "** Importing Requisites **"
   ]
  },
  {
   "cell_type": "code",
   "execution_count": 17,
   "metadata": {
    "collapsed": true
   },
   "outputs": [],
   "source": [
    "from pyspark.sql import SparkSession\n",
    "from pyspark.sql.functions import *\n",
    "from pyspark.sql.types import *\n",
    "from pyspark.sql import SQLContext\n",
    "\n",
    "import time\n",
    "\n",
    "from cassandra.cluster import Cluster\n",
    "from cassandra.query import BatchStatement"
   ]
  },
  {
   "cell_type": "code",
   "execution_count": 18,
   "metadata": {
    "collapsed": true
   },
   "outputs": [],
   "source": [
    "# Creating Spark Session and SQL Context\n",
    "spark = SparkSession.builder.appName('lr_example').getOrCreate()\n",
    "sqlContext = SQLContext(spark)"
   ]
  },
  {
   "cell_type": "markdown",
   "metadata": {},
   "source": [
    "** Reading Data from HDFS **"
   ]
  },
  {
   "cell_type": "code",
   "execution_count": 19,
   "metadata": {
    "collapsed": true
   },
   "outputs": [],
   "source": [
    "data = spark.read.csv(\"hdfs://localhost:9000/kafka_spark\", inferSchema=True, header=True)"
   ]
  },
  {
   "cell_type": "code",
   "execution_count": 20,
   "metadata": {},
   "outputs": [
    {
     "name": "stdout",
     "output_type": "stream",
     "text": [
      "root\n",
      " |-- action: string (nullable = true)\n",
      " |-- page: string (nullable = true)\n",
      " |-- prevPage: string (nullable = true)\n",
      " |-- product: string (nullable = true)\n",
      " |-- referrer: string (nullable = true)\n",
      " |-- timestamp_hour: double (nullable = true)\n",
      " |-- visitor: string (nullable = true)\n",
      "\n"
     ]
    }
   ],
   "source": [
    "data.printSchema()"
   ]
  },
  {
   "cell_type": "code",
   "execution_count": 21,
   "metadata": {},
   "outputs": [
    {
     "data": {
      "text/plain": [
       "['action',\n",
       " 'page',\n",
       " 'prevPage',\n",
       " 'product',\n",
       " 'referrer',\n",
       " 'timestamp_hour',\n",
       " 'visitor']"
      ]
     },
     "execution_count": 21,
     "metadata": {},
     "output_type": "execute_result"
    }
   ],
   "source": [
    "data.columns"
   ]
  },
  {
   "cell_type": "code",
   "execution_count": 22,
   "metadata": {},
   "outputs": [
    {
     "name": "stdout",
     "output_type": "stream",
     "text": [
      "+-----------+-------+--------+--------------------+--------+-----------------+--------------+\n",
      "|     action|   page|prevPage|             product|referrer|   timestamp_hour|       visitor|\n",
      "+-----------+-------+--------+--------------------+--------+-----------------+--------------+\n",
      "|   purchase| Page-3|  Page-2|David's Tea,Choco...|Internal|1.522059079456E12|Visitor-200957|\n",
      "|add_to_cart| Page-8|    null|Motorola,SURFboar...|    Bing|1.522059079936E12|Visitor-142811|\n",
      "|  page_view|Page-10|    null|L'Oreal,Out of Be...| Twitter|1.522059079936E12|Visitor-900950|\n",
      "|  page_view| Page-2|    null|      Coca Cola,Soda|  Direct|1.522059079936E12|Visitor-878781|\n",
      "|  page_view| Page-8|    null|Scotch,Super 33+ ...|   Yahoo|1.522059080416E12|Visitor-963300|\n",
      "|  page_view| Page-1|    null|Simple,Eye Makeup...|  Google|1.522059080416E12|Visitor-332696|\n",
      "|  page_view| Page-2|    null|Fernet-Branca,Liq...|Facebook|1.522059080416E12|Visitor-483822|\n",
      "|  page_view| Page-5|    null|Reynolds,Slow Coo...|Facebook|1.522059080896E12|Visitor-122939|\n",
      "|  page_view| Page-1|    null|Gnarly Head,Caber...|  Google|1.522059080896E12|Visitor-474777|\n",
      "|  page_view| Page-9|    null|Duracell,76A Dura...|Facebook|1.522059080896E12|Visitor-739980|\n",
      "|  page_view|Page-14|    null|Reynolds,Parchmen...|Facebook|1.522059081376E12|Visitor-193011|\n",
      "|  page_view| Page-6|    null|Aveeno,Men's Afte...|  Google|1.522059081376E12|Visitor-651163|\n",
      "|  page_view| Page-7|  Page-1|Pond's,Dry Skin C...|Internal|1.522059081376E12|Visitor-372467|\n",
      "|  page_view| Page-4|    null|L'Oreal,Out of Be...|Facebook|1.522059081376E12|Visitor-981961|\n",
      "|  page_view|Page-13|    null|Sanyo,Eneloop 4 A...|  Google|1.522059081376E12|Visitor-357242|\n",
      "|  page_view|Page-13|    null|Old Spice,Refresh...|  Direct|1.522059081856E12|Visitor-289363|\n",
      "|  page_view|Page-10|    null|De Cecco,Penne Ri...|   Other|1.522059081856E12|Visitor-906818|\n",
      "|  page_view| Page-1|    null|     Mars,Peanut M&M|Facebook|1.522059081856E12|Visitor-727496|\n",
      "|  page_view| Page-8|    null|   Gillette,Sensor 3|   Other|1.522059082336E12|Visitor-173268|\n",
      "|  page_view| Page-2|    null|Tide,Febreze Fres...|  Google|1.522059082336E12|Visitor-690265|\n",
      "+-----------+-------+--------+--------------------+--------+-----------------+--------------+\n",
      "only showing top 20 rows\n",
      "\n"
     ]
    }
   ],
   "source": [
    "data.show()"
   ]
  },
  {
   "cell_type": "code",
   "execution_count": 23,
   "metadata": {},
   "outputs": [
    {
     "name": "stdout",
     "output_type": "stream",
     "text": [
      "+-----------+-------+--------+-----------------------------------------------------+--------+-----------------+--------------+\n",
      "|action     |page   |prevPage|product                                              |referrer|timestamp_hour   |visitor       |\n",
      "+-----------+-------+--------+-----------------------------------------------------+--------+-----------------+--------------+\n",
      "|purchase   |Page-3 |Page-2  |David's Tea,Chocolate Chili Chai Black Tea           |Internal|1.522059079456E12|Visitor-200957|\n",
      "|add_to_cart|Page-8 |null    |Motorola,SURFboard eXtreme Cable Modem (Model SB6121)|Bing    |1.522059079936E12|Visitor-142811|\n",
      "|page_view  |Page-10|null    |L'Oreal,Out of Bed Texturizer                        |Twitter |1.522059079936E12|Visitor-900950|\n",
      "|page_view  |Page-2 |null    |Coca Cola,Soda                                       |Direct  |1.522059079936E12|Visitor-878781|\n",
      "|page_view  |Page-8 |null    |Scotch,Super 33+ Vinyl Electric Tape                 |Yahoo   |1.522059080416E12|Visitor-963300|\n",
      "|page_view  |Page-1 |null    |Simple,Eye Makeup-up Remover Pads                    |Google  |1.522059080416E12|Visitor-332696|\n",
      "|page_view  |Page-2 |null    |Fernet-Branca,Liqueur                                |Facebook|1.522059080416E12|Visitor-483822|\n",
      "+-----------+-------+--------+-----------------------------------------------------+--------+-----------------+--------------+\n",
      "only showing top 7 rows\n",
      "\n"
     ]
    }
   ],
   "source": [
    "data.show(7, truncate=False)"
   ]
  },
  {
   "cell_type": "code",
   "execution_count": 24,
   "metadata": {
    "collapsed": true
   },
   "outputs": [],
   "source": [
    "def timestamp_conversion(timestamp):\n",
    "        if timestamp is not None:\n",
    "            return time.strftime('%Y-%m-%d', time.gmtime(timestamp/1000))\n",
    "        else:\n",
    "            return \"null null\""
   ]
  },
  {
   "cell_type": "code",
   "execution_count": 25,
   "metadata": {
    "collapsed": true
   },
   "outputs": [],
   "source": [
    "time_udf = udf(timestamp_conversion,StringType())"
   ]
  },
  {
   "cell_type": "code",
   "execution_count": 26,
   "metadata": {
    "collapsed": true
   },
   "outputs": [],
   "source": [
    "inputDF = data.withColumn(\"timestamp_hour\",time_udf(data[\"timestamp_hour\"]))\n",
    "inputDF.createOrReplaceTempView(\"activity\")"
   ]
  },
  {
   "cell_type": "markdown",
   "metadata": {},
   "source": [
    "** Batch Analytics **"
   ]
  },
  {
   "cell_type": "code",
   "execution_count": 27,
   "metadata": {
    "collapsed": true
   },
   "outputs": [],
   "source": [
    "visitorsByProduct = sqlContext.sql(\"SELECT product, timestamp_hour, COUNT(DISTINCT visitor) as unique_visitors FROM Activity GROUP BY product, timestamp_hour\")"
   ]
  },
  {
   "cell_type": "code",
   "execution_count": 28,
   "metadata": {
    "scrolled": true
   },
   "outputs": [
    {
     "name": "stdout",
     "output_type": "stream",
     "text": [
      "+--------------------+--------------+---------------+\n",
      "|             product|timestamp_hour|unique_visitors|\n",
      "+--------------------+--------------+---------------+\n",
      "|Ziploc,Double Zip...|    2018-03-26|            411|\n",
      "|Clif Bar,Chocolat...|    1970-01-01|            214|\n",
      "|Scotch,Super 33+ ...|    1970-01-01|            212|\n",
      "|  Kroger,Garlic Salt|    1970-01-01|            232|\n",
      "|Trader Joe's,Toma...|    2018-03-26|            439|\n",
      "+--------------------+--------------+---------------+\n",
      "only showing top 5 rows\n",
      "\n"
     ]
    }
   ],
   "source": [
    "visitorsByProduct.show(5)"
   ]
  },
  {
   "cell_type": "code",
   "execution_count": 29,
   "metadata": {
    "collapsed": true
   },
   "outputs": [],
   "source": [
    "activityByProduct = sqlContext.sql(\"SELECT product, timestamp_hour, sum(case when action = 'purchase' then 1 else 0 end) as purchase_count, sum(case when action = 'add_to_cart' then 1 else 0 end) as add_to_cart_count, sum(case when action = 'page_view' then 1 else 0 end) as page_view_count from Activity group by product, timestamp_hour\").cache()"
   ]
  },
  {
   "cell_type": "code",
   "execution_count": 30,
   "metadata": {},
   "outputs": [
    {
     "name": "stdout",
     "output_type": "stream",
     "text": [
      "+--------------------+--------------+--------------+-----------------+---------------+\n",
      "|             product|timestamp_hour|purchase_count|add_to_cart_count|page_view_count|\n",
      "+--------------------+--------------+--------------+-----------------+---------------+\n",
      "|Ziploc,Double Zip...|    2018-03-26|             9|               16|            386|\n",
      "|Clif Bar,Chocolat...|    1970-01-01|            12|                8|            194|\n",
      "|Scotch,Super 33+ ...|    1970-01-01|             6|                6|            200|\n",
      "|Trader Joe's,Toma...|    2018-03-26|            13|                7|            419|\n",
      "|  Kroger,Garlic Salt|    1970-01-01|             5|               10|            217|\n",
      "+--------------------+--------------+--------------+-----------------+---------------+\n",
      "only showing top 5 rows\n",
      "\n"
     ]
    }
   ],
   "source": [
    "activityByProduct.show(5)"
   ]
  },
  {
   "cell_type": "markdown",
   "metadata": {},
   "source": [
    "** Creating Cassandra cluster object and connecting to default cluster **"
   ]
  },
  {
   "cell_type": "code",
   "execution_count": 31,
   "metadata": {
    "collapsed": true
   },
   "outputs": [],
   "source": [
    "cluster = Cluster()\n",
    "session = cluster.connect()\n",
    "\n",
    "# Setting keyspace so that all queries by default refer to this keyspace\n",
    "session.set_keyspace('lambda')"
   ]
  },
  {
   "cell_type": "markdown",
   "metadata": {},
   "source": [
    "** inserting into batch_visitors_by_product table in cassandra **"
   ]
  },
  {
   "cell_type": "code",
   "execution_count": null,
   "metadata": {},
   "outputs": [],
   "source": [
    "query = session.prepare(\"INSERT INTO batch_visitors_by_product (product, timestamp_hour, unique_visitors) VALUES (?,?,?)\")\n",
    "for row in visitorsByProduct.rdd.collect():\n",
    "    session.execute(query, [row['product'], row['timestamp_hour'], row['unique_visitors']])"
   ]
  },
  {
   "cell_type": "markdown",
   "metadata": {},
   "source": [
    "** inserting into batch_activity_by_product ** "
   ]
  },
  {
   "cell_type": "code",
   "execution_count": null,
   "metadata": {
    "collapsed": true
   },
   "outputs": [],
   "source": [
    "query = session.prepare(\"INSERT INTO batch_activity_by_product (product, timestamp_hour, add_to_cart_count, page_view_count, purchase_count) VALUES (?, ?, ?, ?, ?)\")\n",
    "for row in activityByProduct.rdd.collect():\n",
    "    session.execute(query, [row['product'], row['timestamp_hour'], row['purchase_count'], row['add_to_cart_count'],row['page_view_count']])"
   ]
  },
  {
   "cell_type": "markdown",
   "metadata": {},
   "source": [
    "** D O N E ! . . . . . **"
   ]
  },
  {
   "cell_type": "code",
   "execution_count": null,
   "metadata": {
    "collapsed": true
   },
   "outputs": [],
   "source": []
  }
 ],
 "metadata": {
  "kernelspec": {
   "display_name": "Python 3",
   "language": "python",
   "name": "python3"
  },
  "language_info": {
   "codemirror_mode": {
    "name": "ipython",
    "version": 3
   },
   "file_extension": ".py",
   "mimetype": "text/x-python",
   "name": "python",
   "nbconvert_exporter": "python",
   "pygments_lexer": "ipython3",
   "version": "3.6.3"
  }
 },
 "nbformat": 4,
 "nbformat_minor": 2
}
