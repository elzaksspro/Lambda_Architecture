{
 "cells": [
  {
   "cell_type": "code",
   "execution_count": 36,
   "metadata": {
    "collapsed": true
   },
   "outputs": [],
   "source": [
    "from pyspark.sql import SparkSession\n",
    "spark = SparkSession.builder.appName('lr_example').getOrCreate()"
   ]
  },
  {
   "cell_type": "code",
   "execution_count": 37,
   "metadata": {
    "collapsed": true
   },
   "outputs": [],
   "source": [
    "# hdfs://localhost:9000/kafka_spark"
   ]
  },
  {
   "cell_type": "code",
   "execution_count": 38,
   "metadata": {
    "collapsed": true
   },
   "outputs": [],
   "source": [
    "data = spark.read.csv(\"hdfs://localhost:9000/kafka_spark\", inferSchema=True, header=True)"
   ]
  },
  {
   "cell_type": "code",
   "execution_count": 39,
   "metadata": {},
   "outputs": [
    {
     "name": "stdout",
     "output_type": "stream",
     "text": [
      "root\n",
      " |-- action: string (nullable = true)\n",
      " |-- page: string (nullable = true)\n",
      " |-- prevPage: string (nullable = true)\n",
      " |-- product: string (nullable = true)\n",
      " |-- referrer: string (nullable = true)\n",
      " |-- timestamp_hour: long (nullable = true)\n",
      " |-- visitor: string (nullable = true)\n",
      "\n"
     ]
    }
   ],
   "source": [
    "data.printSchema()"
   ]
  },
  {
   "cell_type": "code",
   "execution_count": 40,
   "metadata": {},
   "outputs": [
    {
     "data": {
      "text/plain": [
       "['action',\n",
       " 'page',\n",
       " 'prevPage',\n",
       " 'product',\n",
       " 'referrer',\n",
       " 'timestamp_hour',\n",
       " 'visitor']"
      ]
     },
     "execution_count": 40,
     "metadata": {},
     "output_type": "execute_result"
    }
   ],
   "source": [
    "data.columns"
   ]
  },
  {
   "cell_type": "code",
   "execution_count": 41,
   "metadata": {},
   "outputs": [
    {
     "name": "stdout",
     "output_type": "stream",
     "text": [
      "+-----------+-------+--------+--------------------+--------+--------------+--------------+\n",
      "|     action|   page|prevPage|             product|referrer|timestamp_hour|       visitor|\n",
      "+-----------+-------+--------+--------------------+--------+--------------+--------------+\n",
      "|    purchas| Page-9|    null|Spectrum Naturals...|Facebook| 1521638246248|Visitor-839267|\n",
      "|add_to_cart|Page-11|    null|      Barilla,Rotini|   Yahoo| 1521638246728|Visitor-143216|\n",
      "|  page_view| Page-8|    null|Neutrogena,On-the...|   Other| 1521638246728|Visitor-787008|\n",
      "|  page_view| Page-7|    null|     Kraft,Cool Whip|    Bing| 1521638246728| Visitor-22713|\n",
      "|  page_view|Page-13|    null|e.l.f.,Jumbo Eyes...|  Direct| 1521638246728|Visitor-293239|\n",
      "|  page_view|Page-11|    null|Clorox,Disinfecti...|  Google| 1521638246728|Visitor-178455|\n",
      "|  page_view| Page-5|    null|Nivea,Original Mo...| Twitter| 1521638246728|Visitor-269473|\n",
      "|  page_view|Page-12|    null|Simple,Cleansing ...|  Direct| 1521638246728| Visitor-11685|\n",
      "|  page_view|Page-11|    null|Banana Boat,Sport...|  Google| 1521638246728| Visitor-48119|\n",
      "|  page_view|Page-14|    null|Stanley,9 Way Scr...|  Google| 1521638246728|Visitor-957591|\n",
      "|  page_view|Page-11|    null|Caliber,Security ...|   Yahoo| 1521638246728|Visitor-361424|\n",
      "|  page_view| Page-9|    null|Simply Organic,It...|   Yahoo| 1521638246728|   Visitor-965|\n",
      "|  page_view| Page-2|    null|Band-Aid,Flexible...| Twitter| 1521638247208|Visitor-579823|\n",
      "|  page_view| Page-3|    null|  Charmin,Ultra Soft| Twitter| 1521638247208| Visitor-19502|\n",
      "|  page_view| Page-4|    null|e.l.f.,Jumbo Eyes...|  Google| 1521638247208|Visitor-521377|\n",
      "|  page_view| Page-8| Page-13|Crisco,Pure Veget...|Internal| 1521638247208|Visitor-157509|\n",
      "|  page_view|Page-14|    null|California Pizza ...|  Direct| 1521638247208|Visitor-886302|\n",
      "|  page_view|Page-10|    null|Trader Joe's,Toma...| Twitter| 1521638247208|Visitor-947232|\n",
      "|  page_view| Page-0|    null|e.l.f.,Matte Lip ...|    Bing| 1521638247688|Visitor-846567|\n",
      "|  page_view|Page-11|    null|Botanics,Hydratin...| Twitter| 1521638247688|Visitor-454988|\n",
      "+-----------+-------+--------+--------------------+--------+--------------+--------------+\n",
      "only showing top 20 rows\n",
      "\n"
     ]
    }
   ],
   "source": [
    "data.show()"
   ]
  },
  {
   "cell_type": "code",
   "execution_count": 42,
   "metadata": {},
   "outputs": [
    {
     "name": "stdout",
     "output_type": "stream",
     "text": [
      "+-----------+-------+--------+-------------------------------------------+--------+--------------+--------------+\n",
      "|action     |page   |prevPage|product                                    |referrer|timestamp_hour|visitor       |\n",
      "+-----------+-------+--------+-------------------------------------------+--------+--------------+--------------+\n",
      "|purchas    |Page-9 |null    |Spectrum Naturals,Peanut Oil               |Facebook|1521638246248 |Visitor-839267|\n",
      "|add_to_cart|Page-11|null    |Barilla,Rotini                             |Yahoo   |1521638246728 |Visitor-143216|\n",
      "|page_view  |Page-8 |null    |Neutrogena,On-the-Spot Acne Treatment      |Other   |1521638246728 |Visitor-787008|\n",
      "|page_view  |Page-7 |null    |Kraft,Cool Whip                            |Bing    |1521638246728 |Visitor-22713 |\n",
      "|page_view  |Page-13|null    |e.l.f.,Jumbo Eyeshadow Stick-Turkish Coffee|Direct  |1521638246728 |Visitor-293239|\n",
      "|page_view  |Page-11|null    |Clorox,Disinfecting Wipes                  |Google  |1521638246728 |Visitor-178455|\n",
      "|page_view  |Page-5 |null    |Nivea,Original Moisture Body Lotion        |Twitter |1521638246728 |Visitor-269473|\n",
      "+-----------+-------+--------+-------------------------------------------+--------+--------------+--------------+\n",
      "only showing top 7 rows\n",
      "\n"
     ]
    }
   ],
   "source": [
    "data.show(7, truncate=False)"
   ]
  }
 ],
 "metadata": {
  "kernelspec": {
   "display_name": "Python 3",
   "language": "python",
   "name": "python3"
  },
  "language_info": {
   "codemirror_mode": {
    "name": "ipython",
    "version": 3
   },
   "file_extension": ".py",
   "mimetype": "text/x-python",
   "name": "python",
   "nbconvert_exporter": "python",
   "pygments_lexer": "ipython3",
   "version": "3.6.3"
  }
 },
 "nbformat": 4,
 "nbformat_minor": 2
}
